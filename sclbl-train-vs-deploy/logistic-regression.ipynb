{
 "cells": [
  {
   "cell_type": "markdown",
   "metadata": {},
   "source": [
    "# Exploring training vs. deployment requirements\n",
    "> 19-10-2020\n",
    "\n",
    "In this notebook we illustrate the differences between model training and model deployment in a bit more depth, using a simple logistic regression model as an example."
   ]
  },
  {
   "cell_type": "markdown",
   "metadata": {},
   "source": [
    "## The data\n",
    "We start by generating some data that we can use to fit our example logistic regression model to. The code below generates 1000 observations according to the following simple model:\n",
    "\n",
    "$Pr(y = 1 | x) = \\frac{1}{1 + e^{-1(.75 + 1.5x_1 -.5x_2)}}$.\n",
    "\n",
    "Thus, we have $\\beta_0 = .75$, $\\beta_1 = 1.5$, and $\\beta_2=-.5$."
   ]
  },
  {
   "cell_type": "code",
   "execution_count": 33,
   "metadata": {},
   "outputs": [
    {
     "name": "stdout",
     "output_type": "stream",
     "text": [
      "[[ 0.21699199  1.70626983  0.        ]\n",
      " [ 0.33088623  0.31927093  1.        ]\n",
      " [ 0.42139769 -0.56196383  1.        ]\n",
      " [ 1.62725099  1.67986145  1.        ]\n",
      " [-0.0407933  -0.53697263  1.        ]\n",
      " [-1.29861553  0.08937192  0.        ]\n",
      " [ 0.78383487  1.43907342  1.        ]\n",
      " [ 1.27006773  0.05205827  1.        ]\n",
      " [-1.03640642 -0.81844398  0.        ]\n",
      " [-1.73163517  1.64711652  0.        ]]\n",
      "[[ 0.21699199  1.70626983]\n",
      " [ 0.33088623  0.31927093]\n",
      " [ 0.42139769 -0.56196383]\n",
      " ...\n",
      " [-1.30713503 -0.84853104]\n",
      " [-0.35355419  1.11673014]\n",
      " [ 0.02514672  0.41085014]]\n"
     ]
    }
   ],
   "source": [
    "import numpy as np\n",
    "\n",
    "# Simulate Data Generating Process\n",
    "n = 1000  # 1000 observations\n",
    "x1 = np.random.uniform(-2,2,n)  # x_1 & x_2 between -2 and 2\n",
    "x2 = np.random.uniform(-2,2,n)\n",
    "p = 1 / (1 + np.exp( -1*(.75 + 1.5*x1 - .5*x2) ))  # Implement DGP\n",
    "\n",
    "y = np.random.binomial(1, p, n)  # Draw outcomes\n",
    "\n",
    "# Create dataset and print first few lines:\n",
    "data = np.column_stack((x1,x2,y))\n",
    "print(data[:10])\n",
    "\n",
    "print(data[:,[0,1]])"
   ]
  },
  {
   "cell_type": "markdown",
   "metadata": {},
   "source": [
    "## Fitting the model\n",
    "After generating the example data, we can fit the model. Note that we print the iterations of the model to make explicit how the training is carried out."
   ]
  },
  {
   "cell_type": "code",
   "execution_count": 34,
   "metadata": {},
   "outputs": [],
   "source": [
    "from sklearn.linear_model import LogisticRegression\n",
    "mod = LogisticRegression().fit(data[:,[0,1]], np.ravel(data[:,[2]]))"
   ]
  },
  {
   "cell_type": "code",
   "execution_count": 49,
   "metadata": {},
   "outputs": [
    {
     "name": "stdout",
     "output_type": "stream",
     "text": [
      "[ 0.7911692   1.58688224 -0.45307928]\n",
      "[8]\n"
     ]
    }
   ],
   "source": [
    "b = np.concatenate((mod.intercept_, mod.coef_.flatten()))\n",
    "\n",
    "print(b)\n",
    "print(mod.n_iter_)"
   ]
  },
  {
   "cell_type": "code",
   "execution_count": 51,
   "metadata": {},
   "outputs": [
    {
     "name": "stdout",
     "output_type": "stream",
     "text": [
      "24496\n",
      "2424\n",
      "216\n"
     ]
    }
   ],
   "source": [
    "import sys\n",
    "\n",
    "def get_size(obj, seen=None):\n",
    "    \"\"\"Recursively finds size of objects\"\"\"\n",
    "    size = sys.getsizeof(obj)\n",
    "    if seen is None:\n",
    "        seen = set()\n",
    "    obj_id = id(obj)\n",
    "    if obj_id in seen:\n",
    "        return 0\n",
    "    # Important mark as seen *before* entering recursion to gracefully handle\n",
    "    # self-referential objects\n",
    "    seen.add(obj_id)\n",
    "    if isinstance(obj, dict):\n",
    "        size += sum([get_size(v, seen) for v in obj.values()])\n",
    "        size += sum([get_size(k, seen) for k in obj.keys()])\n",
    "    elif hasattr(obj, '__dict__'):\n",
    "        size += get_size(obj.__dict__, seen)\n",
    "    elif hasattr(obj, '__iter__') and not isinstance(obj, (str, bytes, bytearray)):\n",
    "        size += sum([get_size(i, seen) for i in obj])\n",
    "    return size\n",
    "\n",
    "print(get_size(data))\n",
    "print(get_size(mod))\n",
    "print(get_size(b))"
   ]
  },
  {
   "cell_type": "code",
   "execution_count": 53,
   "metadata": {},
   "outputs": [
    {
     "name": "stdout",
     "output_type": "stream",
     "text": [
      "841\n"
     ]
    }
   ],
   "source": [
    "import pickle\n",
    "s = pickle.dumps(mod)\n",
    "\n",
    "print(get_size(s))\n",
    "\n",
    "pickle.dump(mod, open( \"model.pickle\", \"wb\" ) )"
   ]
  },
  {
   "cell_type": "code",
   "execution_count": 54,
   "metadata": {},
   "outputs": [
    {
     "name": "stdout",
     "output_type": "stream",
     "text": [
      "\n",
      "*** Thanks for importing sclblpy! ***\n",
      "You can use the 'upload()' function to upload your models.\n",
      "To inspect your currently uploaded models, use `endpoints()`.\n",
      "Check the docs at https://pypi.org/project/sclblpy/ for more info. \n",
      "\n"
     ]
    }
   ],
   "source": [
    "import sclblpy as sp"
   ]
  },
  {
   "cell_type": "code",
   "execution_count": 55,
   "metadata": {},
   "outputs": [
    {
     "ename": "TypeError",
     "evalue": "upload() missing 1 required positional argument: 'feature_vector'",
     "output_type": "error",
     "traceback": [
      "\u001b[0;31m---------------------------------------------------------------------------\u001b[0m",
      "\u001b[0;31mTypeError\u001b[0m                                 Traceback (most recent call last)",
      "\u001b[0;32m<ipython-input-55-8699ac696426>\u001b[0m in \u001b[0;36m<module>\u001b[0;34m\u001b[0m\n\u001b[0;32m----> 1\u001b[0;31m \u001b[0msp\u001b[0m\u001b[0;34m.\u001b[0m\u001b[0mupload\u001b[0m\u001b[0;34m(\u001b[0m\u001b[0mmod\u001b[0m\u001b[0;34m)\u001b[0m\u001b[0;34m\u001b[0m\u001b[0;34m\u001b[0m\u001b[0m\n\u001b[0m",
      "\u001b[0;31mTypeError\u001b[0m: upload() missing 1 required positional argument: 'feature_vector'"
     ]
    }
   ],
   "source": [
    "sp.upload(mod)"
   ]
  },
  {
   "cell_type": "code",
   "execution_count": 63,
   "metadata": {},
   "outputs": [
    {
     "name": "stdout",
     "output_type": "stream",
     "text": [
      "Your stored user credentials have been removed. \n",
      "You will have to re-enter your username and password next time.\n",
      "Successfully removed your user credentials.\n",
      "WARNING: You did not provide any documentation. \n",
      "We will simply use LogisticRegression as its name without further documentation.\n",
      "Please provide your username: maurits.kaptein@scailable.net\n",
      "Please type your password: ········\n",
      "Would you like us to store your user credentials (y/n)? y\n",
      "Your model was successfully uploaded to Scailable!\n",
      "NOTE: After transpiling, we will send you an email and your model will be available at https://admin.sclbl.net.\n",
      "Or, alternatively, you can use the 'endpoints()' function to list all your uploaded models. \n",
      "\n"
     ]
    },
    {
     "data": {
      "text/plain": [
       "True"
      ]
     },
     "execution_count": 63,
     "metadata": {},
     "output_type": "execute_result"
    }
   ],
   "source": [
    "row = np.array([1,1])\n",
    "sp.upload(mod, row)"
   ]
  },
  {
   "cell_type": "code",
   "execution_count": 64,
   "metadata": {},
   "outputs": [
    {
     "name": "stdout",
     "output_type": "stream",
     "text": [
      "You currently own the following endpoints:\n",
      "\n",
      "  1: LogisticRegression, \n",
      "   - cfid: 09694abc-1219-11eb-8eec-9600004e79cc \n",
      "   - example: https://admin.sclbl.net/run.html?cfid=09694abc-1219-11eb-8eec-9600004e79cc&exin=%5B%5B1%2C%201%5D%5D \n",
      "\n",
      "  2: Add - for js client, \n",
      "   - cfid: 27d21872-c4ff-11ea-816c-9600004e79cc \n",
      "   - example: https://admin.sclbl.net/run.html?cfid=27d21872-c4ff-11ea-816c-9600004e79cc&exin=%5B1%2C2%2C3%2C4%5D \n",
      "\n",
      "  3: Simple linear regression demo, \n",
      "   - cfid: e871d8e5-b2e2-11ea-a47d-9600004e79cc \n",
      "   - example: https://admin.sclbl.net/run.html?cfid=e871d8e5-b2e2-11ea-a47d-9600004e79cc&exin=%5B%5B2%2C%205%5D%5D \n",
      "\n",
      "  4: XGBoost breast cancer model, \n",
      "   - cfid: 007bdbaa-b093-11ea-a47d-9600004e79cc \n",
      "   - example: https://admin.sclbl.net/run.html?cfid=007bdbaa-b093-11ea-a47d-9600004e79cc&exin=%5B%5B17.99%2C%2010.38%2C%20122.8%2C%201001.0%2C%200.1184%2C%200.2776%2C%200.3001%2C%200.1471%2C%200.2419%2C%200.07871%2C%201.095%2C%200.9053%2C%208.589%2C%20153.4%2C%200.006399%2C%200.04904%2C%200.05373%2C%200.01587%2C%200.03003%2C%200.006193%2C%2025.38%2C%2017.33%2C%20184.6%2C%202019.0%2C%200.1622%2C%200.6656%2C%200.7119%2C%200.2654%2C%200.4601%2C%200.1189%5D%5D \n",
      "\n",
      "  5: Simple linear regression demo, \n",
      "   - cfid: 97ae1d0b-aee8-11ea-a47d-9600004e79cc \n",
      "   - example: https://admin.sclbl.net/run.html?cfid=97ae1d0b-aee8-11ea-a47d-9600004e79cc&exin=%5B%5B20%5D%5D \n",
      "\n",
      "Login at https://admin.sclbl.net to administer your endpoints and see integration examples.\n",
      "\n"
     ]
    },
    {
     "data": {
      "text/plain": [
       "[{'agent': 'toolchain',\n",
       "  'cfid': '09694abc-1219-11eb-8eec-9600004e79cc',\n",
       "  'created_day': '19 Oct 2020',\n",
       "  'created_time': '16:40:30',\n",
       "  'cycles': '1',\n",
       "  'docs': '-- EMPTY --',\n",
       "  'exampleinput': '[[1, 1]]',\n",
       "  'exampleoutput': '[1.0]',\n",
       "  'filename': 'b54c7068-7453-4444-a802-e41b286d31b6-0733929d-1219-11eb-98cf-9600004e7a82.wasm',\n",
       "  'id': 192,\n",
       "  'jwt_secured': False,\n",
       "  'location': 'https://cdn.sclbl.net:8000/file/09694abc-1219-11eb-8eec-9600004e79cc.wasm',\n",
       "  'name': 'LogisticRegression',\n",
       "  'profit': '0.1',\n",
       "  'updated_day': '19 Oct 2020',\n",
       "  'updated_time': '16:40:30'},\n",
       " {'agent': 'user',\n",
       "  'cfid': '27d21872-c4ff-11ea-816c-9600004e79cc',\n",
       "  'created_day': '13 Jul 2020',\n",
       "  'created_time': '13:51:15',\n",
       "  'cycles': '1',\n",
       "  'docs': 'Model add',\n",
       "  'exampleinput': '[1,2,3,4]',\n",
       "  'exampleoutput': '',\n",
       "  'filename': 'sclbl-intsum.wasm',\n",
       "  'id': 166,\n",
       "  'jwt_secured': False,\n",
       "  'location': 'https://cdn.sclbl.net:8000/file/27d21872-c4ff-11ea-816c-9600004e79cc.wasm',\n",
       "  'name': 'Add - for js client',\n",
       "  'profit': '0.5',\n",
       "  'updated_day': '14 Jul 2020',\n",
       "  'updated_time': '15:08:00'},\n",
       " {'agent': 'toolchain',\n",
       "  'cfid': 'e871d8e5-b2e2-11ea-a47d-9600004e79cc',\n",
       "  'created_day': '20 Jun 2020',\n",
       "  'created_time': '12:43:42',\n",
       "  'cycles': '1',\n",
       "  'docs': '#Linear regression demonstration.\\n\\t\\nFor the [getting started tutorial](https://github.com/scailable/sclbl-tutorials/blob/master/README.md).',\n",
       "  'exampleinput': '[[2, 5]]',\n",
       "  'exampleoutput': '[[11.567552813307277]]',\n",
       "  'filename': 'b54c7068-7453-4444-a802-e41b286d31b6-e6948407-b2e2-11ea-a467-9600004e7a82.wasm',\n",
       "  'id': 162,\n",
       "  'jwt_secured': False,\n",
       "  'location': 'https://cdn.sclbl.net:8000/file/e871d8e5-b2e2-11ea-a47d-9600004e79cc.wasm',\n",
       "  'name': 'Simple linear regression demo',\n",
       "  'profit': '0.1',\n",
       "  'updated_day': '20 Jun 2020',\n",
       "  'updated_time': '12:43:42'},\n",
       " {'agent': 'toolchain',\n",
       "  'cfid': '007bdbaa-b093-11ea-a47d-9600004e79cc',\n",
       "  'created_day': '17 Jun 2020',\n",
       "  'created_time': '14:06:40',\n",
       "  'cycles': '1',\n",
       "  'docs': '# XG boost model \\nUsing [https://scikit-learn.org/stable/datasets/index.html#breast-cancer-dataset](https://scikit-learn.org/stable/datasets/index.html#breast-cancer-dataset).',\n",
       "  'exampleinput': '[[17.99, 10.38, 122.8, 1001.0, 0.1184, 0.2776, 0.3001, 0.1471, 0.2419, 0.07871, 1.095, 0.9053, 8.589, 153.4, 0.006399, 0.04904, 0.05373, 0.01587, 0.03003, 0.006193, 25.38, 17.33, 184.6, 2019.0, 0.1622, 0.6656, 0.7119, 0.2654, 0.4601, 0.1189]]',\n",
       "  'exampleoutput': '[0]',\n",
       "  'filename': 'b54c7068-7453-4444-a802-e41b286d31b6-fddebd64-b092-11ea-a467-9600004e7a82.wasm',\n",
       "  'id': 158,\n",
       "  'jwt_secured': False,\n",
       "  'location': 'https://cdn.sclbl.net:8000/file/007bdbaa-b093-11ea-a47d-9600004e79cc.wasm',\n",
       "  'name': 'XGBoost breast cancer model',\n",
       "  'profit': '0.1',\n",
       "  'updated_day': '17 Jun 2020',\n",
       "  'updated_time': '14:06:40'},\n",
       " {'agent': 'user',\n",
       "  'cfid': '97ae1d0b-aee8-11ea-a47d-9600004e79cc',\n",
       "  'created_day': '15 Jun 2020',\n",
       "  'created_time': '11:14:19',\n",
       "  'cycles': '1',\n",
       "  'docs': '#Linear regression demonstration.\\n\\nInput is a simple scalar.',\n",
       "  'exampleinput': '[[20]]',\n",
       "  'exampleoutput': '[[29.96242417177723]]',\n",
       "  'filename': 'b54c7068-7453-4444-a802-e41b286d31b6-9586996c-aee8-11ea-a467-9600004e7a82.wasm',\n",
       "  'id': 157,\n",
       "  'jwt_secured': False,\n",
       "  'location': 'https://cdn.sclbl.net:8000/file/97ae1d0b-aee8-11ea-a47d-9600004e79cc.wasm',\n",
       "  'name': 'Simple linear regression demo',\n",
       "  'profit': '0.5',\n",
       "  'updated_day': '15 Jun 2020',\n",
       "  'updated_time': '11:19:52'}]"
      ]
     },
     "execution_count": 64,
     "metadata": {},
     "output_type": "execute_result"
    }
   ],
   "source": [
    "sp.endpoints()"
   ]
  },
  {
   "cell_type": "code",
   "execution_count": 73,
   "metadata": {},
   "outputs": [
    {
     "name": "stdout",
     "output_type": "stream",
     "text": [
      "[1 1]\n"
     ]
    },
    {
     "data": {
      "text/plain": [
       "array([[-2.0611449 , -0.13617274]])"
      ]
     },
     "execution_count": 73,
     "metadata": {},
     "output_type": "execute_result"
    }
   ],
   "source": [
    "print(row)\n",
    "mod.predict_log_proba(row.reshape(1, -1))"
   ]
  },
  {
   "cell_type": "code",
   "execution_count": 79,
   "metadata": {},
   "outputs": [
    {
     "data": {
      "text/plain": [
       "array([[-2.0611449 , -0.13617274]])"
      ]
     },
     "execution_count": 79,
     "metadata": {},
     "output_type": "execute_result"
    }
   ],
   "source": [
    "mod.predict_log_proba(np.array([1,1]).reshape(1, -1))"
   ]
  },
  {
   "cell_type": "code",
   "execution_count": 74,
   "metadata": {},
   "outputs": [
    {
     "data": {
      "text/plain": [
       "{'C': 1.0,\n",
       " 'class_weight': None,\n",
       " 'dual': False,\n",
       " 'fit_intercept': True,\n",
       " 'intercept_scaling': 1,\n",
       " 'l1_ratio': None,\n",
       " 'max_iter': 100,\n",
       " 'multi_class': 'auto',\n",
       " 'n_jobs': None,\n",
       " 'penalty': 'l2',\n",
       " 'random_state': None,\n",
       " 'solver': 'lbfgs',\n",
       " 'tol': 0.0001,\n",
       " 'verbose': 0,\n",
       " 'warm_start': False}"
      ]
     },
     "execution_count": 74,
     "metadata": {},
     "output_type": "execute_result"
    }
   ],
   "source": [
    "mod.get_params()"
   ]
  },
  {
   "cell_type": "code",
   "execution_count": null,
   "metadata": {},
   "outputs": [],
   "source": []
  }
 ],
 "metadata": {
  "kernelspec": {
   "display_name": "Python 3",
   "language": "python",
   "name": "python3"
  },
  "language_info": {
   "codemirror_mode": {
    "name": "ipython",
    "version": 3
   },
   "file_extension": ".py",
   "mimetype": "text/x-python",
   "name": "python",
   "nbconvert_exporter": "python",
   "pygments_lexer": "ipython3",
   "version": "3.7.5"
  }
 },
 "nbformat": 4,
 "nbformat_minor": 4
}
